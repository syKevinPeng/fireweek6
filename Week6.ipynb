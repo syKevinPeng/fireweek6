{
 "cells": [
  {
   "cell_type": "markdown",
   "metadata": {},
   "source": [
    "# Week 6 -- Preparing Dataset and Writing an Face Recognition Preprocessor #"
   ]
  },
  {
   "cell_type": "markdown",
   "metadata": {},
   "source": [
    "## Required Packages"
   ]
  },
  {
   "cell_type": "markdown",
   "metadata": {},
   "source": [
    "conda install tensorflow\\\n",
    "conda install jupyterlab\\\n",
    "conda install pip\\\n",
    "conda install opencv\\\n",
    "conda install matplotlib\\\n",
    "pip install requests\\\n"
   ]
  },
  {
   "cell_type": "markdown",
   "metadata": {},
   "source": [
    "## Prepare Dataset - face recognition"
   ]
  },
  {
   "cell_type": "markdown",
   "metadata": {},
   "source": [
    "dataset link: http://vis-www.cs.umass.edu/lfw/ "
   ]
  },
  {
   "cell_type": "markdown",
   "metadata": {},
   "source": [
    "Information:\n",
    "13233 images\n",
    "5749 people\n",
    "1680 people with two or more images"
   ]
  },
  {
   "cell_type": "markdown",
   "metadata": {},
   "source": [
    "## code"
   ]
  },
  {
   "cell_type": "code",
   "execution_count": 1,
   "metadata": {
    "pycharm": {
     "is_executing": false
    }
   },
   "outputs": [
    {
     "name": "stdout",
     "text": [
      "finish importing!\n"
     ],
     "output_type": "stream"
    }
   ],
   "source": [
    "# import packages\n",
    "import requests\n",
    "import tarfile\n",
    "import os\n",
    "import numpy as np\n",
    "import cv2\n",
    "from typing import List\n",
    "print(\"finish importing!\")\n",
    "\n",
    "# global variable\n"
   ]
  },
  {
   "cell_type": "code",
   "execution_count": 2,
   "metadata": {
    "pycharm": {
     "is_executing": false
    }
   },
   "outputs": [
    {
     "name": "stdout",
     "text": [
      "Downloading start\n",
      "Downloading finish\n"
     ],
     "output_type": "stream"
    }
   ],
   "source": [
    "# install dataset\n",
    "# note: it could take more than 5 minute to download. If the circle on the upper right of this window is black, DO NOT stop this process untill see\n",
    "# the output \"Downloading finish\"\n",
    "data_url = \"http://vis-www.cs.umass.edu/lfw/lfw.tgz\"\n",
    "training_pairs_url = \"http://vis-www.cs.umass.edu/lfw/pairsDevTrain.txt\"\n",
    "testing_pairs_url = \"http://vis-www.cs.umass.edu/lfw/pairsDevTest.txt\"\n",
    "anchor_lib_url = \"https://raw.github.com/tensorflow/models/blob/master/research/object_detection/anchor_generators/grid_anchor_generator.py\"\n",
    "zip_dataset_name = \"lfw.tgz\"\n",
    "training_pairs_name = \"pairsDevTrain.txt\"\n",
    "testing_pairs_name = \"pairsDevTest.txt\"\n",
    "data_dir_name = 'data'\n",
    "if not os.path.isdir(data_dir_name):\n",
    "    os.mkdir(data_dir_name)\n",
    "    print(\"Downloading start\")\n",
    "    r = requests.get(data_url,stream = True)\n",
    "    with open(os.path.join(data_dir_name, zip_dataset_name), 'wb') as f:\n",
    "        f.write(r.raw.read())\n",
    "    print(\"Downloading finish\")\n",
    "# download pairsDevTrain.txt and parisDevTest.txt\n",
    "if not os.path.isfile(training_pairs_name):\n",
    "    r = requests.get(training_pairs_url)\n",
    "    with open(training_pairs_name, \"wb\") as file:\n",
    "        file.write(r.content)\n",
    "    print(f\"{training_pairs_name} Downloaded\")\n",
    "if not os.path.isfile(testing_pairs_name):\n",
    "    r = requests.get(testing_pairs_url)\n",
    "    with open(testing_pairs_name, \"wb\") as file:\n",
    "        file.write(r.content)\n",
    "    print(f\"{testing_pairs_name} Downloaded\")"
   ]
  },
  {
   "cell_type": "code",
   "execution_count": 3,
   "metadata": {
    "pycharm": {
     "is_executing": false
    }
   },
   "outputs": [
    {
     "name": "stdout",
     "text": [
      "finish extracting\n"
     ],
     "output_type": "stream"
    }
   ],
   "source": [
    "#unzip the package\n",
    "if not len([os.listdir('data')]) > 5700:\n",
    "    tar = tarfile.open(\"data/lfw.tgz\", \"r\")\n",
    "    tar.extractall(data_dir_name)\n",
    "    tar.close\n",
    "    print(\"finish extracting\")"
   ]
  },
  {
   "cell_type": "markdown",
   "metadata": {},
   "source": [
    "# Please read closely to the README before going foreward"
   ]
  },
  {
   "cell_type": "code",
   "execution_count": 4,
   "metadata": {
    "pycharm": {
     "is_executing": false
    }
   },
   "outputs": [],
   "source": [
    "# http://vis-www.cs.umass.edu/lfw/README.txt"
   ]
  },
  {
   "cell_type": "code",
   "execution_count": 5,
   "metadata": {
    "collapsed": false,
    "jupyter": {
     "outputs_hidden": false
    },
    "pycharm": {
     "is_executing": false,
     "name": "#%%\n"
    }
   },
   "outputs": [],
   "source": [
    "# this function return the path to the image with name NAME_ID.jpg\n",
    "def construct_dir_from_name(name, id):\n",
    "    path_name = os.path.join(data_dir_name,\"lfw\",name)\n",
    "    return os.path.join(path_name,name) + \"_\" + f\"{id}\".zfill(4) + \".jpg\""
   ]
  },
  {
   "cell_type": "code",
   "execution_count": 9,
   "metadata": {
    "collapsed": false,
    "jupyter": {
     "outputs_hidden": false
    },
    "pycharm": {
     "is_executing": false,
     "name": "#%% \n"
    }
   },
   "outputs": [],
   "source": [
    "class DataGenerator:\n",
    "    def __init__(self, txt_file_name, batch_size, anchor_shape = (96,96), channel = 3, shuffle = True):\n",
    "        print(\"initializaing\")\n",
    "        self.batch_size = batch_size\n",
    "        self.anchor_shape = anchor_shape\n",
    "        self.shuffle = shuffle\n",
    "        self.on_epoch_end()\n",
    "        self.txt_file_name = txt_file_name\n",
    "        self.anchar_arr = []\n",
    "        self.channel = channel\n",
    "        self.negative_dir_arr:List[str] = []\n",
    "        self.positive_dir_arr:List[str] = []\n",
    "        \n",
    "        with open(txt_file_name) as f:\n",
    "            for line in f:\n",
    "                line = line.split()\n",
    "                if len(line) == 3:\n",
    "                    self.positive_dir_arr.append([construct_dir_from_name(line[0],line[1]), construct_dir_from_name(line[0], line[2])])\n",
    "                elif len(line) == 4:\n",
    "                    self.negative_dir_arr.append([construct_dir_from_name(line[0],line[1]),construct_dir_from_name(line[2], line[3])])\n",
    "\n",
    "        \n",
    "    # if self.shuffle == true, shuffle the positive and negative indexes\n",
    "    def on_epoch_end(self):\n",
    "        # udpate indexs after each epoch\n",
    "        self.pos_indexes = np.array(len(self.positive_dir_arr))\n",
    "        self.neg_indexes = np.array(len(self.negative_dir_arr))\n",
    "        if self.shuffle == True:\n",
    "            np.random.shuffle(self.pos_indexes)\n",
    "            np.random.shuffle(self.neg_indexes)\n",
    "        print(\"shuffling\")\n",
    "\n",
    "    def __len__(self):\n",
    "        # Denotes the number of batches per epoch\n",
    "        return int(np.floor(len(self.pos_indexes) / self.batch_size))\n",
    "    \n",
    "    def __getitem__(self, index):\n",
    "        pos_indexes = self.pos_indexes[index*self.batch_size:(index+1)*self.batch_size]\n",
    "    \n",
    "    def data_generation(self, pos_index_temp, neg_index_temp):\n",
    "        # construct positive image (numpy) array\n",
    "        pos_img_arr = []\n",
    "        neg_img_arr = []\n",
    "        anchor_arr = []\n",
    "        for dir in self.positive_dir_arr:\n",
    "            img = cv2.imread(dir[1])\n",
    "            resized_img = cv2.resize(img, self.anchor_shape)\n",
    "            pos_img_arr.append(resized_img)\n",
    "        for dir in self.negative_dir_arr:\n",
    "            img = cv2.imread(dir[0])\n",
    "            resized_img = cv2.resize(img, self.anchor_shape)\n",
    "            neg_img_arr.append(resized_img)\n",
    "        return pos_img_arr, neg_img_arr"
   ]
  },
  {
   "cell_type": "code",
   "execution_count": 12,
   "metadata": {
    "collapsed": false,
    "jupyter": {
     "outputs_hidden": false
    },
    "pycharm": {
     "is_executing": false,
     "name": "#%%\n"
    }
   },
   "outputs": [
    {
     "name": "stdout",
     "text": [
      "initializaing\n",
      "shuffling\n",
      "shape: (1100, 96, 96, 3)\n",
      "shape: (96, 96, 3)\n",
      "testing complete\n"
     ],
     "output_type": "stream"
    }
   ],
   "source": [
    "# for testing only\n",
    "data_generator = DataGenerator(txt_file_name=training_pairs_name,batch_size=10);\n",
    "pos_img_arr, neg_img_arr = data_generator.data_generation()\n",
    "img_arr = np.asarray(pos_img_arr)\n",
    "print(\"shape: \" + str(img_arr.shape))\n",
    "print(\"shape: \" + str(img_arr[0].shape))\n",
    "\n",
    "print(\"testing complete\")"
   ]
  },
  {
   "cell_type": "code",
   "execution_count": 13,
   "metadata": {
    "collapsed": false,
    "jupyter": {
     "outputs_hidden": false
    },
    "pycharm": {
     "is_executing": false,
     "name": "#%%\n"
    }
   },
   "outputs": [
    {
     "data": {
      "text/plain": "<matplotlib.image.AxesImage at 0x12b4271d0>"
     },
     "metadata": {},
     "output_type": "execute_result",
     "execution_count": 13
    },
    {
     "data": {
      "text/plain": "<Figure size 432x288 with 1 Axes>",
      "image/png": "[encoded data removed]"
     },
     "metadata": {
      "needs_background": "light"
     },
     "output_type": "display_data"
    }
   ],
   "source": [
    "import matplotlib.pyplot as plt\n",
    "\n",
    "plt.imshow(img_arr[0])"
   ]
  },
  {
   "cell_type": "code",
   "execution_count": 8,
   "metadata": {
    "collapsed": false,
    "jupyter": {
     "outputs_hidden": false
    },
    "pycharm": {
     "is_executing": false,
     "name": "#%%\n"
    }
   },
   "outputs": [],
   "source": [
    "\n"
   ]
  }
 ],
 "metadata": {
  "kernelspec": {
   "display_name": "Python 3",
   "language": "python",
   "name": "python3"
  },
  "language_info": {
   "codemirror_mode": {
    "name": "ipython",
    "version": 3
   },
   "file_extension": ".py",
   "mimetype": "text/x-python",
   "name": "python",
   "nbconvert_exporter": "python",
   "pygments_lexer": "ipython3",
   "version": "3.7.6"
  },
  "pycharm": {
   "stem_cell": {
    "cell_type": "raw",
    "source": [],
    "metadata": {
     "collapsed": false
    }
   }
  }
 },
 "nbformat": 4,
 "nbformat_minor": 4
}