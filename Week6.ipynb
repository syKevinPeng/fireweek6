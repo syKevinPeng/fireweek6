{
 "cells": [
  {
   "cell_type": "markdown",
   "metadata": {},
   "source": [
    "# week 6 -- Preparing Dataset and Writing an Image Classification Preprocessor #"
   ]
  },
  {
   "cell_type": "markdown",
   "metadata": {},
   "source": [
    "## Required Packages"
   ]
  },
  {
   "cell_type": "markdown",
   "metadata": {},
   "source": [
    "conda install tensorflow\\\n",
    "conda install jupyterlab\\\n",
    "conda install pip\\\n",
    "pip install requests\\\n"
   ]
  },
  {
   "cell_type": "markdown",
   "metadata": {},
   "source": [
    "## Prepare Dataset - face recognition"
   ]
  },
  {
   "cell_type": "markdown",
   "metadata": {},
   "source": [
    "dataset link: http://vis-www.cs.umass.edu/lfw/ "
   ]
  },
  {
   "cell_type": "markdown",
   "metadata": {},
   "source": [
    "Information:\n",
    "13233 images\n",
    "5749 people\n",
    "1680 people with two or more images"
   ]
  },
  {
   "cell_type": "markdown",
   "metadata": {},
   "source": [
    "## code"
   ]
  },
  {
   "cell_type": "code",
   "execution_count": 61,
   "metadata": {
    "pycharm": {
     "is_executing": false
    }
   },
   "outputs": [
    {
     "name": "stdout",
     "output_type": "stream",
     "text": [
      "finish importing\n"
     ]
    }
   ],
   "source": [
    "# import packages\n",
    "import requests\n",
    "import tarfile\n",
    "import os\n",
    "import numpy as np\n",
    "print(\"finish importing\")\n",
    "\n",
    "# global variable\n"
   ]
  },
  {
   "cell_type": "code",
   "execution_count": 62,
   "metadata": {
    "pycharm": {
     "is_executing": false
    }
   },
   "outputs": [],
   "source": [
    "# install dataset\n",
    "# note: it could take more than 5 minute to download. If the circle on the upper right of this window is black, DO NOT stop this process untill see\n",
    "# the output \"Downloading finish\"\n",
    "data_url = \"http://vis-www.cs.umass.edu/lfw/lfw.tgz\"\n",
    "training_pairs_url = \"http://vis-www.cs.umass.edu/lfw/pairsDevTrain.txt\"\n",
    "testing_pairs_url = \"http://vis-www.cs.umass.edu/lfw/pairsDevTest.txt\"\n",
    "zip_dataset_name = \"lfw.tgz\"\n",
    "folder_name = 'data'\n",
    "if not os.path.isdir(folder_name):\n",
    "    os.mkdir(folder_name)\n",
    "    print(\"Downloading start\")\n",
    "    r = requests.get(data_url,stream = True)\n",
    "    with open(os.path.join(folder_name, zip_dataset_name), 'wb') as f:\n",
    "        f.write(r.raw.read())\n",
    "    print(\"Downloading finish\")\n",
    "    "
   ]
  },
  {
   "cell_type": "code",
   "execution_count": 69,
   "metadata": {
    "pycharm": {
     "is_executing": false
    }
   },
   "outputs": [
    {
     "data": {
      "text/plain": [
       "<bound method TarFile.close of <tarfile.TarFile object at 0x0000021B071EBD88>>"
      ]
     },
     "execution_count": 69,
     "metadata": {},
     "output_type": "execute_result"
    }
   ],
   "source": [
    "#unzip the package\n",
    "tar = tarfile.open(\"data/lfw.tgz\", \"r\")\n",
    "tar.extractall(folder_name)\n",
    "tar.close\n",
    "print(\"finish extracting\")"
   ]
  },
  {
   "cell_type": "markdown",
   "metadata": {},
   "source": [
    "# Please read closely to the README before going foreward"
   ]
  },
  {
   "cell_type": "code",
   "execution_count": null,
   "metadata": {},
   "outputs": [],
   "source": [
    "# http://vis-www.cs.umass.edu/lfw/README.txt"
   ]
  }
 ],
 "metadata": {
  "kernelspec": {
   "display_name": "Python 3",
   "language": "python",
   "name": "python3"
  },
  "language_info": {
   "codemirror_mode": {
    "name": "ipython",
    "version": 3
   },
   "file_extension": ".py",
   "mimetype": "text/x-python",
   "name": "python",
   "nbconvert_exporter": "python",
   "pygments_lexer": "ipython3",
   "version": "3.7.6"
  }
 },
 "nbformat": 4,
 "nbformat_minor": 4
}
