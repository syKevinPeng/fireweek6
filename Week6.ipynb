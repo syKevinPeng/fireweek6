{
 "cells" : [
  {
   "cell_type" : "markdown",
   "metadata" : { },
   "source" : [
    "# Week 6 -- Preparing Dataset and Writing an Face Recognition Preprocessor #"
   ]
  },
  {
   "cell_type" : "markdown",
   "metadata" : { },
   "source" : [
    "## Required Packages"
   ]
  },
  {
   "cell_type" : "markdown",
   "metadata" : { },
   "source" : [
    "conda install tensorflow\\\n",
    "conda install jupyterlab\\\n",
    "conda install pip\\\n",
    "conda install opencv\\\n",
    "conda install matplotlib\\\n",
    "\n",
    "conda config --add channels conda-forge\\\n",
    "conda install imgaug\\\n",
    "\n",
    "pip install requests\\\n"
   ]
  },
  {
   "cell_type" : "markdown",
   "metadata" : { },
   "source" : [
    "## Prepare Dataset - face recognition"
   ]
  },
  {
   "cell_type" : "markdown",
   "metadata" : { },
   "source" : [
    "dataset link: http://vis-www.cs.umass.edu/lfw/ "
   ]
  },
  {
   "cell_type" : "markdown",
   "metadata" : { },
   "source" : [
    "Information:\n",
    "13233 images\n",
    "5749 people\n",
    "1680 people with two or more images\n",
    "\n",
    "Image augmentation documentation: https://imgaug.readthedocs.io/en/latest/index.html"
   ]
  },
  {
   "cell_type" : "markdown",
   "metadata" : { },
   "source" : [
    "## code"
   ]
  },
  {
   "cell_type" : "code",
   "execution_count" : 4,
   "metadata" : {
    "pycharm" : {
     "is_executing" : false
    }
   },
   "outputs" : [
    {
     "name" : "stderr",
     "text" : [
      "Using TensorFlow backend.\n"
     ],
     "output_type" : "stream"
    },
    {
     "name" : "stdout",
     "text" : [
      "finish importing!\n"
     ],
     "output_type" : "stream"
    }
   ],
   "source" : [
    "# import packages\n",
    "import requests\n",
    "import tarfile\n",
    "import os\n",
    "import numpy as np\n",
    "import cv2\n",
    "import keras\n",
    "import imgaug as ia\n",
    "from imgaug import augmenters as iaa\n",
    "from typing import List\n",
    "print(\"finish importing!\")\n",
    "\n",
    "# global variable\n"
   ]
  },
  {
   "cell_type" : "code",
   "execution_count" : 5,
   "metadata" : {
    "pycharm" : {
     "is_executing" : false
    }
   },
   "outputs" : [ ],
   "source" : [
    "# install dataset\n",
    "# note: it could take more than 5 minute to download. If the circle on the upper right of this window is black, DO NOT stop this process untill see\n",
    "# the output \"Downloading finish\"\n",
    "data_url = \"http://vis-www.cs.umass.edu/lfw/lfw.tgz\"\n",
    "training_pairs_url = \"http://vis-www.cs.umass.edu/lfw/pairsDevTrain.txt\"\n",
    "testing_pairs_url = \"http://vis-www.cs.umass.edu/lfw/pairsDevTest.txt\"\n",
    "anchor_lib_url = \"https://raw.github.com/tensorflow/models/blob/master/research/object_detection/anchor_generators/grid_anchor_generator.py\"\n",
    "zip_dataset_name = \"lfw.tgz\"\n",
    "training_pairs_name = \"pairsDevTrain.txt\"\n",
    "testing_pairs_name = \"pairsDevTest.txt\"\n",
    "data_dir_name = 'data'\n",
    "if not os.path.isdir(data_dir_name):\n",
    "    os.mkdir(data_dir_name)\n",
    "    print(\"Downloading start\")\n",
    "    r = requests.get(data_url,stream = True)\n",
    "    with open(os.path.join(data_dir_name, zip_dataset_name), 'wb') as f:\n",
    "        f.write(r.raw.read())\n",
    "    print(\"Downloading finish\")\n",
    "# download pairsDevTrain.txt and parisDevTest.txt\n",
    "if not os.path.isfile(training_pairs_name):\n",
    "    r = requests.get(training_pairs_url)\n",
    "    with open(training_pairs_name, \"wb\") as file:\n",
    "        file.write(r.content)\n",
    "    print(f\"{training_pairs_name} Downloaded\")\n",
    "if not os.path.isfile(testing_pairs_name):\n",
    "    r = requests.get(testing_pairs_url)\n",
    "    with open(testing_pairs_name, \"wb\") as file:\n",
    "        file.write(r.content)\n",
    "    print(f\"{testing_pairs_name} Downloaded\")"
   ]
  },
  {
   "cell_type" : "code",
   "execution_count" : 6,
   "metadata" : {
    "pycharm" : {
     "is_executing" : false
    }
   },
   "outputs" : [
    {
     "name" : "stdout",
     "text" : [
      "finish extracting\n"
     ],
     "output_type" : "stream"
    }
   ],
   "source" : [
    "#unzip the package\n",
    "if not len([os.listdir('data')]) > 5700:\n",
    "    tar = tarfile.open(\"data/lfw.tgz\", \"r\")\n",
    "    tar.extractall(data_dir_name)\n",
    "    tar.close\n",
    "    print(\"finish extracting\")"
   ]
  },
  {
   "cell_type" : "markdown",
   "metadata" : { },
   "source" : [
    "# Please read closely to the README before going foreward"
   ]
  },
  {
   "cell_type" : "code",
   "execution_count" : 7,
   "metadata" : {
    "pycharm" : {
     "is_executing" : false
    }
   },
   "outputs" : [ ],
   "source" : [
    "# http://vis-www.cs.umass.edu/lfw/README.txt"
   ]
  },
  {
   "cell_type" : "code",
   "execution_count" : 8,
   "metadata" : {
    "collapsed" : false,
    "jupyter" : {
     "outputs_hidden" : false
    },
    "pycharm" : {
     "is_executing" : false,
     "name" : "#%%\n"
    }
   },
   "outputs" : [ ],
   "source" : [
    "# this function return the path to the image with name NAME_ID.jpg\n",
    "def construct_dir_from_name(name, id):\n",
    "    path_name = os.path.join(data_dir_name,\"lfw\",name)\n",
    "    return os.path.join(path_name,name) + \"_\" + f\"{id}\".zfill(4) + \".jpg\""
   ]
  },
  {
   "cell_type" : "code",
   "execution_count" : 13,
   "metadata" : {
    "collapsed" : false,
    "jupyter" : {
     "outputs_hidden" : false
    },
    "pycharm" : {
     "is_executing" : false,
     "name" : "#%% \n"
    }
   },
   "outputs" : [ ],
   "source" : [
    "class DataGenerator (keras.utils.Sequence):\n",
    "    def __init__(self, txt_file_name, batch_size, img_aug = True, anchor_shape = (96,96), channel = 3, shuffle = True):\n",
    "        print(\"initializaing\")\n",
    "        self.batch_size = batch_size\n",
    "        self.img_aug = img_aug\n",
    "        self.anchor_shape = anchor_shape\n",
    "        self.shuffle = shuffle\n",
    "        self.txt_file_name = txt_file_name\n",
    "        self.anchar_arr = []\n",
    "        self.channel = channel\n",
    "        self.negative_dir_arr:List[str] = []\n",
    "        self.positive_dir_arr:List[str] = []\n",
    "        with open(txt_file_name) as f:\n",
    "            for line in f:\n",
    "                line = line.split()\n",
    "                if len(line) == 3:\n",
    "                    self.positive_dir_arr.append([construct_dir_from_name(line[0],line[1]), construct_dir_from_name(line[0], line[2])])\n",
    "                elif len(line) == 4:\n",
    "                    self.negative_dir_arr.append([construct_dir_from_name(line[0],line[1]),construct_dir_from_name(line[2], line[3])])\n",
    "        self.on_epoch_end()\n",
    "\n",
    "    # if self.shuffle == true, shuffle the positive and negative indexes\n",
    "    def on_epoch_end(self):\n",
    "        # udpate indexs after each epoch\n",
    "        self.pos_indexes = np.arange(len(self.positive_dir_arr))\n",
    "        self.neg_indexes = np.arange(len(self.negative_dir_arr))\n",
    "        if self.shuffle == True:\n",
    "            np.random.shuffle(self.pos_indexes)\n",
    "            np.random.shuffle(self.neg_indexes)\n",
    "\n",
    "    def __len__(self):\n",
    "        # Denotes the number of batches per epoch\n",
    "        return int(np.floor(len(self.pos_indexes) / self.batch_size))\n",
    "\n",
    "    # __getitem__ is a system-defined function. array[i] is doing same operation as\n",
    "    # __getitem__. Here we actually override it -- we feed in an index and return\n",
    "    # a batch of image. See how we call this function in \"generate_data\" function:\n",
    "    # \"yield self[counter]\" is the same thing as \"yield self.__getitem_(counter)\"\n",
    "    def __getitem__(self, index):\n",
    "        pos_indexes = self.pos_indexes[index*self.batch_size:(index+1)*self.batch_size]\n",
    "        neg_indexes = self.neg_indexes[index*self.batch_size:(index+1)*self.batch_size]\n",
    "        \n",
    "        pos_list_temp = [self.positive_dir_arr[i] for i in pos_indexes]\n",
    "        neg_list_temp = [self.negative_dir_arr[k] for k in neg_indexes]\n",
    "\n",
    "        anchor_batch, pos_batch, neg_batch = self.__batch_generation(pos_list_temp,neg_list_temp)\n",
    "        return anchor_batch, pos_batch, neg_batch\n",
    "\n",
    "    # augment img as a batch\n",
    "    def images_aumentation(self):\n",
    "        seq = iaa.Sequential([\n",
    "            iaa.Crop(px=(0, 16)), # crop images from each side by 0 to 16px (randomly chosen)\n",
    "            iaa.Fliplr(0.5), # horizontally flip 50% of the images\n",
    "            iaa.GaussianBlur(sigma=(0, 3.0)) # blur images with a sigma of 0 to 3.0\n",
    "        ])\n",
    "            \n",
    "    \n",
    "    def __batch_generation(self, pos_index_temp, neg_index_temp):\n",
    "        # construct positive image (numpy) array\n",
    "        pos_img_arr = []\n",
    "        neg_img_arr = []\n",
    "        anchor_arr = [] # todo\n",
    "        for dir in pos_index_temp:\n",
    "            img = cv2.imread(dir[1])\n",
    "            resized_img = cv2.resize(img, self.anchor_shape)\n",
    "            pos_img_arr.append(resized_img)\n",
    "        for dir in neg_index_temp:\n",
    "            img = cv2.imread(dir[0])\n",
    "            resized_img = cv2.resize(img, self.anchor_shape)\n",
    "            neg_img_arr.append(resized_img)\n",
    "        return anchor_arr, pos_img_arr, neg_img_arr\n",
    "\n",
    "    # you should call this funtion to get a batch of imgs\n",
    "    def generate_data(self):\n",
    "        while(True):\n",
    "            counter = 0\n",
    "            yield self[counter]\n",
    "            counter += 1\n"
   ]
  },
  {
   "cell_type" : "code",
   "execution_count" : 17,
   "metadata" : {
    "collapsed" : false,
    "jupyter" : {
     "outputs_hidden" : false
    },
    "pycharm" : {
     "is_executing" : false,
     "name" : "#%%\n"
    }
   },
   "outputs" : [
    {
     "name" : "stdout",
     "text" : [
      "initializaing\n",
      "(6, 96, 96, 3)\n",
      "testing complete\n"
     ],
     "output_type" : "stream"
    }
   ],
   "source" : [
    "# for testing only\n",
    "data_generator = DataGenerator(txt_file_name=training_pairs_name, batch_size = 6);\n",
    "anchor_arr, pos_img_arr, neg_img_arr = next(data_generator.generate_data())\n",
    "print(np.asarray(pos_img_arr).shape)\n",
    "pos_img_example = pos_img_arr[1]\n",
    "neg_img_example = neg_img_arr[1]\n",
    "anchor_arr_1, pos_img_arr_1, neg_img_arr_1 = next(data_generator.generate_data())\n",
    "pos_img_example_1 = pos_img_arr_1[1]\n",
    "neg_img_example_1 = neg_img_arr_1[1]\n",
    "print(\"testing complete\")"
   ]
  },
  {
   "cell_type" : "code",
   "execution_count" : 18,
   "metadata" : {
    "collapsed" : false,
    "jupyter" : {
     "outputs_hidden" : false
    },
    "pycharm" : {
     "is_executing" : false,
     "name" : "#%%\n"
    }
   },
   "outputs" : [
    {
     "data" : {
      "text/plain" : "<matplotlib.image.AxesImage at 0x24ca1d4ea08>"
     },
     "metadata" : { },
     "output_type" : "execute_result",
     "execution_count" : 18
    },
    {
     "data" : {
      "text/plain" : "<Figure size 432x288 with 1 Axes>",
      "image/png" : "[encoded data removed]"
     },
     "metadata" : {
      "needs_background" : "light"
     },
     "output_type" : "display_data"
    }
   ],
   "source" : [
    "import matplotlib.pyplot as plt\n",
    "# convert BGR to RGB\n",
    "pos_img_example = pos_img_example[:, :, ::-1]\n",
    "plt.imshow(pos_img_example)"
   ]
  },
  {
   "cell_type" : "code",
   "execution_count" : 16,
   "outputs" : [
    {
     "data" : {
      "text/plain" : "<matplotlib.image.AxesImage at 0x24ca2d56808>"
     },
     "metadata" : { },
     "output_type" : "execute_result",
     "execution_count" : 16
    },
    {
     "data" : {
      "text/plain" : "<Figure size 432x288 with 1 Axes>",
      "image/png" : "[encoded data removed]"
     },
     "metadata" : {
      "needs_background" : "light"
     },
     "output_type" : "display_data"
    }
   ],
   "source" : [
    "neg_img_example_1 = neg_img_example[:, :, ::-1]\n",
    "plt.imshow(neg_img_example)"
   ],
   "metadata" : {
    "collapsed" : false,
    "pycharm" : {
     "name" : "#%%\n",
     "is_executing" : false
    }
   }
  },
  {
   "cell_type" : "code",
   "execution_count" : 12,
   "metadata" : {
    "collapsed" : false,
    "jupyter" : {
     "outputs_hidden" : false
    },
    "pycharm" : {
     "is_executing" : false,
     "name" : "#%%\n"
    }
   },
   "outputs" : [ ],
   "source" : [ ]
  },
  {
   "cell_type" : "code",
   "execution_count" : null,
   "outputs" : [ ],
   "source" : [
    "\n"
   ],
   "metadata" : {
    "collapsed" : false,
    "pycharm" : {
     "name" : "#%%\n"
    }
   }
  }
 ],
 "metadata" : {
  "kernelspec" : {
   "display_name" : "Python 3",
   "language" : "python",
   "name" : "python3"
  },
  "language_info" : {
   "codemirror_mode" : {
    "name" : "ipython",
    "version" : 3
   },
   "file_extension" : ".py",
   "mimetype" : "text/x-python",
   "name" : "python",
   "nbconvert_exporter" : "python",
   "pygments_lexer" : "ipython3",
   "version" : "3.7.6"
  },
  "pycharm" : {
   "stem_cell" : {
    "cell_type" : "raw",
    "source" : [ ],
    "metadata" : {
     "collapsed" : false
    }
   }
  }
 },
 "nbformat" : 4,
 "nbformat_minor" : 4
}